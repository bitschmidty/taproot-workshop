{
 "cells": [
  {
   "cell_type": "markdown",
   "metadata": {},
   "source": [
    "#### 0.2.3 _Programming Exercise:_ Commutative property of scalar operations"
   ]
  },
  {
   "cell_type": "code",
   "execution_count": null,
   "metadata": {},
   "outputs": [],
   "source": [
    "a = random.randrange(1, SECP256K1_ORDER)\n",
    "a_key = ECKey().set(a)\n",
    "\n",
    "b = random.randrange(1, SECP256K1_ORDER)\n",
    "b_key = ECKey().set(b)\n",
    "\n",
    "# Left: Compute a + b as ints (modulo the sepc256k1 group order)\n",
    "left_a_plus_b = (a + b) % SECP256K1_ORDER\n",
    "\n",
    "# Right: Compute b + a as ECKeys\n",
    "right_b_plus_a = b_key + a_key\n",
    "\n",
    "print(\"Left: {}\".format(left_a_plus_b))\n",
    "print(\"Right: {}\\n\".format(right_b_plus_a))\n",
    "\n",
    "# Left/Right: Assert equality\n",
    "assert left_a_plus_b == right_b_plus_a.secret\n",
    "\n",
    "# Left: Compute a * b as ints (modulo the sepc256k1 group order)\n",
    "left_a_times_b = (a * b) % SECP256K1_ORDER\n",
    "\n",
    "# Right: Compute b * a as ECKeys\n",
    "right_b_times_a = b_key * a_key\n",
    "\n",
    "print(\"Left: {}\".format(left_a_times_b))\n",
    "print(\"Right: {}\\n\".format(right_b_times_a))\n",
    "\n",
    "# Left/Right: Assert equality\n",
    "assert left_a_times_b == right_b_times_a.secret\n",
    "print(\"Success!\")"
   ]
  },
  {
   "cell_type": "markdown",
   "metadata": {},
   "source": [
    "#### 0.2.4 _Programming Exercise:_ Distributivity of scalar operations"
   ]
  },
  {
   "cell_type": "code",
   "execution_count": null,
   "metadata": {},
   "outputs": [],
   "source": [
    "a = random.randrange(1, SECP256K1_ORDER)\n",
    "a_key = ECKey().set(a)\n",
    "\n",
    "b = random.randrange(1, SECP256K1_ORDER)\n",
    "b_key = ECKey().set(b)\n",
    "\n",
    "c = random.randrange(1, SECP256K1_ORDER)\n",
    "c_key = ECKey().set(c)\n",
    "\n",
    "# Left: Compute a - b as ints (modulo the sepc256k1 group order)\n",
    "a_minus_b = (a - b) % SECP256K1_ORDER\n",
    "\n",
    "# Left: Compute (a - b) * c as ints (modulo the sepc256k1 group order)\n",
    "left = (a_minus_b * c) % SECP256K1_ORDER\n",
    "\n",
    "# Right: Compute a * c - b * c as ECKeys\n",
    "right = a_key * c_key - b_key * c_key\n",
    "\n",
    "print(\"Left: {}\".format(left))\n",
    "print(\"Right: {}\".format(right))\n",
    "\n",
    "# Left/Right: Assert equality\n",
    "assert left == right.secret\n",
    "print(\"\\nSuccess!\")"
   ]
  },
  {
   "cell_type": "markdown",
   "metadata": {},
   "source": [
    "#### 0.2.6  _Programming Exercise:_ Distributivity over scalars and points"
   ]
  },
  {
   "cell_type": "code",
   "execution_count": null,
   "metadata": {},
   "outputs": [],
   "source": [
    "a = ECKey().generate()\n",
    "b = ECKey().generate()\n",
    "c, C = generate_key_pair()\n",
    "\n",
    "# Left: Compute (a - b) * C  \n",
    "left =  (a - b) * C\n",
    "\n",
    "# Right: Compute aC - bC\n",
    "right = (a * C) - (b * C)\n",
    "\n",
    "print(\"Left: {}\".format(left))\n",
    "print(\"Right: {}\".format(right))\n",
    "\n",
    "# Left/Right: Assert equality\n",
    "assert left == right\n",
    "print(\"\\nSuccess!\")"
   ]
  }
 ],
 "metadata": {
  "kernelspec": {
   "display_name": "Python 3",
   "language": "python",
   "name": "python3"
  },
  "language_info": {
   "codemirror_mode": {
    "name": "ipython",
    "version": 3
   },
   "file_extension": ".py",
   "mimetype": "text/x-python",
   "name": "python",
   "nbconvert_exporter": "python",
   "pygments_lexer": "ipython3",
   "version": "3.6.5"
  }
 },
 "nbformat": 4,
 "nbformat_minor": 2
}

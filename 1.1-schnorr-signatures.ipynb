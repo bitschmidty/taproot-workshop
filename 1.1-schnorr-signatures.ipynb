{
 "cells": [
  {
   "cell_type": "code",
   "execution_count": null,
   "metadata": {},
   "outputs": [],
   "source": [
    "import random\n",
    "import util\n",
    "from test_framework.key import generate_key_pair, ECKey, ECPubKey, jacobi_symbol, SECP256K1_FIELD_SIZE, SECP256K1_ORDER\n",
    "from test_framework.messages import sha256"
   ]
  },
  {
   "cell_type": "markdown",
   "metadata": {},
   "source": [
    "# 1.1 Introduction to Schnorr Signatures\n",
    "\n",
    "* Part 1: Schnorr Signatures.\n",
    "* Part 2: Deterministic Nonces."
   ]
  },
  {
   "cell_type": "markdown",
   "metadata": {},
   "source": [
    "## Part 1: Schnorr Signatures\n",
    "\n",
    "[bip-schnorr](https://github.com/sipa/bips/blob/bip-schnorr/bip-schnorr.mediawiki) defines a signature/verifier scheme, as well as pubkey and signature encodings.\n",
    "\n",
    "The schnorr signature verification equation is the following:\n",
    "\n",
    "* `S = R + H(x(R)|P|m) * P`\n",
    "\n",
    "Signing involves generating a secret nonce first.\n",
    "\n",
    "* Generate secret scalar `k`\n",
    "\n",
    "Then computing `s` from:\n",
    "\n",
    "* `s = k + H(x(R)|P|m) * d`\n",
    "\n",
    "The resulting signature is:\n",
    "\n",
    "* `x(R), s`"
   ]
  },
  {
   "cell_type": "markdown",
   "metadata": {},
   "source": [
    "![test](images/schnorr0.jpg)"
   ]
  },
  {
   "cell_type": "markdown",
   "metadata": {},
   "source": [
    "### Constraint on the private nonce k\n",
    "\n",
    "To verify a bip-schnorr signature, the verifier needs the computed `s` scalar and the nonce point `R`. To save 32 bytes in the signature, only the x-value of `R` is provided by the signer, from which the verifier can compute the y-value.\n",
    "\n",
    "For a given x-coordinate on the secp256k1 curve, there are two possible curve points:\n",
    "\n",
    "* `y^2 = x^3 + 7` (Two y-coordinate values for a given x-coordinate)\n",
    "    * For `x`, both `(x, y)` and `(x, -y)` are valid curve points (where `-y` is `SECP256K1_FIELD_SIZE - y` since all arithmetic involving coordinates is modulo `SECP256K1_FIELD_SIZE`).\n",
    "    * One of the y-coordinates is a quadratic residue (has a square root modulo the field size), and the other is not.\n",
    "\n",
    "The bip-schnorr proposal constrains `k` such that the y-value of R is a quadratic residue modulo `SECP256K1_FIELD_SIZE`. This means that from the `x` co-ordinate, the verifier can unambigiously determine `y`.\n",
    "\n",
    "* `k` and `SECP256K1_ORDER - k` have nonce points `R = (x, y)` and `R = (x, -y)` respectively.\n",
    "* Only one will have a y-coordinate which is a quadratic residue modulo the field size. If a randomly generated nonce `k` does not yield a valid nonce point `R`, then the signer can negate `k` to obtain a valid nonce.\n",
    "    \n",
    "Whether a scalar is a quadratic residue modulo the secp256k1 field size can be determined by its [jacobi symbol](http://en.wikipedia.org/wiki/Jacobi_symbol). The Test Framework provides a `jacobi_symbol()` function. If `jacobi_symbol(y, SECP256K1_FIELD_SIZE) == 1`, then `y` is a quadratic residue."
   ]
  },
  {
   "cell_type": "markdown",
   "metadata": {},
   "source": [
    "#### 1.1.1 Example: Calculating a valid nonce"
   ]
  },
  {
   "cell_type": "code",
   "execution_count": null,
   "metadata": {},
   "outputs": [],
   "source": [
    "# Generate a random value and its associated curve point. We can use the generate_key_pair() convenience function.\n",
    "k, R = generate_key_pair()\n",
    "\n",
    "# Find y and -y\n",
    "y = R.get_y()\n",
    "minus_y = SECP256K1_FIELD_SIZE - y\n",
    "print(\"y = {}\".format(y))\n",
    "print(\"-y = {}\\n\".format(minus_y))\n",
    "\n",
    "# One of y and -y will be a quadratic residue and the other will not\n",
    "print(\"y is {}a quadratic residue\".format(\"\" if jacobi_symbol(y, SECP256K1_FIELD_SIZE) == 1 else \"not \"))\n",
    "print(\"-y is {}a quadratic residue\\n\".format(\"\" if jacobi_symbol(minus_y, SECP256K1_FIELD_SIZE) == 1 else \"not \"))\n",
    "\n",
    "print(\"k is {}a valid nonce\".format(\"\" if jacobi_symbol(y, SECP256K1_FIELD_SIZE) == 1 else \"not \"))\n",
    "print(\"-k is {}a valid nonce\".format(\"\" if jacobi_symbol(minus_y, SECP256K1_FIELD_SIZE) == 1 else \"not \"))"
   ]
  },
  {
   "cell_type": "markdown",
   "metadata": {},
   "source": [
    "#### 1.1.2 _Programming Exercise:_ Verify that inverse nonce values `k` and `-k` generate inverse points `R` and `-R`"
   ]
  },
  {
   "cell_type": "code",
   "execution_count": null,
   "metadata": {},
   "outputs": [],
   "source": [
    "# Generate a random scalar and its associated curve point\n",
    "k, R =  # TODO: implement\n",
    "\n",
    "# Find the x- and y-coordinates from R\n",
    "# Use the get_x() and get_y() methods\n",
    "R_x =  # TODO: implement\n",
    "R_y =  # TODO: implement\n",
    "\n",
    "print(\"R_x: {}\".format(R_x))\n",
    "print(\"R_y: {}\\n\".format(R_y))\n",
    "\n",
    "# Find k's inverse (SECP256K1_ORDER - k)\n",
    "# Extract the secret value from k using .secret\n",
    "minus_k =  # TODO: implement\n",
    "\n",
    "# Generate the key pair from minus_k using generate_key_pair() function with minus_k as an argument\n",
    "minus_k_key, minus_R =  # TODO: implement\n",
    "\n",
    "# Find the x- and y-coordinates from -R\n",
    "minus_R_x =  # TODO: implement\n",
    "minus_R_y =  # TODO: implement\n",
    "\n",
    "print(\"minus_R_x: {}\".format(minus_R_x))\n",
    "print(\"minus_R_y: {}\\n\".format(minus_R_y))\n",
    "\n",
    "assert R_x == minus_R_x\n",
    "assert SECP256K1_FIELD_SIZE - R_y == minus_R_y\n",
    "\n",
    "print(\"Success!\")"
   ]
  },
  {
   "cell_type": "markdown",
   "metadata": {},
   "source": [
    "#### 1.1.3 _Programming Exercise:_ Sign a message with Schnorr\n",
    "\n",
    "* Sign the message with the provided key pair below."
   ]
  },
  {
   "cell_type": "code",
   "execution_count": null,
   "metadata": {},
   "outputs": [],
   "source": [
    "msg = sha256(b'message')\n",
    "\n",
    "# Generate a private/public key pair\n",
    "d, P = generate_key_pair()\n",
    "\n",
    "# Generate a nonce scalar and associated nonce point\n",
    "k, R = generate_key_pair()\n",
    "\n",
    "# Check that nonce is quadratic residue modulo the field size\n",
    "# If not, negate k\n",
    "# Method: jacobi_symbol(R.get_y(), SECP256K1_FIELD_SIZE)\n",
    "if  # TODO: implement\n",
    "    k.negate()\n",
    "# Note that there is no need to negate R, since we only use the x value of R below\n",
    "\n",
    "# Generate s = k + sha256(R_x|P|msg) * d\n",
    "# Method: sha256(bytes) will give you the byte digest of the SHA256 of some bytes\n",
    "# Turn that digest into a ECKey object called h, and then set s = k + h * d\n",
    "R_x_bytes = R.get_x().to_bytes(32, 'big')\n",
    "P_bytes = P.get_bytes()\n",
    "h_bytes =  # TODO: implement\n",
    "h = ECKey().set(h_bytes)\n",
    "s = k + h * d\n",
    "\n",
    "print(\"R: {}\".format(R))\n",
    "print(\"s: {}\\n\".format(s.get_bytes()))\n",
    "\n",
    "# Generate sig = R_x|s\n",
    "# Method: get the x bytes from R and concatenate with the secret bytes from s\n",
    "sig =  # TODO: implement\n",
    "\n",
    "print(\"Signature: {}\\n\".format(sig.hex()))\n",
    "\n",
    "# Verify the signature\n",
    "assert P.verify_schnorr(sig, msg)\n",
    "\n",
    "print(\"Success!\")"
   ]
  },
  {
   "cell_type": "markdown",
   "metadata": {},
   "source": [
    "## Part 2: Deterministic Nonces for schnorr signatures\n",
    "\n",
    "So far we have used a random secret nonce for creating schnorr signatures. This has the disadvantage that the the user must rely on the robustness of the random generator for each signing rounds. If the nonce generator is compromised or even biased, the private key can be derived for a given signature and known nonce.\n",
    "\n",
    "For **single signer schnorr signatures**, bip-schnorr proposes a deterministic nonce generation scheme.\n",
    "\n",
    "* `k = sha256(d|msg)`"
   ]
  },
  {
   "cell_type": "markdown",
   "metadata": {},
   "source": [
    "#### 1.1.4 _Programming Exercise:_ Signing schnorr with deterministic nonce\n",
    "\n",
    "* Create a Schnorr signature with bip-schnorr's deterministic nonce scheme\n",
    "* Compare this signature to the private key class method `ECKey.sign_schnorr(msg)`"
   ]
  },
  {
   "cell_type": "code",
   "execution_count": null,
   "metadata": {},
   "outputs": [],
   "source": [
    "msg = sha256(b'message')\n",
    "d, P = generate_key_pair()\n",
    "print(\"message = {}\".format(msg.hex()))\n",
    "print(\"pubkey = {}\\n\".format(P.get_bytes().hex()))\n",
    "\n",
    "# Generate the nonce value k deterministically and get the nonce point R\n",
    "# Method: use sha256(bytes) on the private key and message\n",
    "k_bytes =  # TODO: implement\n",
    "k, R =  # TODO: implement\n",
    "\n",
    "# Check that nonce is quadratic residue modulo the field size\n",
    "# If not, negate k\n",
    "# Method: jacobi_symbol(int(y(R)), SECP256K1_FIELD_SIZE)\n",
    "if  # TODO: implement\n",
    "    k.negate()\n",
    "\n",
    "print(\"nonce: {}\".format(k))\n",
    "print(\"nonce point: {}\\n\".format(R))\n",
    "\n",
    "# Generate s = k + sha256(R_x|P|msg) * d\n",
    "# Method: sha256(bytes) will give you the byte digest of the SHA256 of some bytes\n",
    "# Turn that digest into a ECKey object called h, and then set s = k + h * d\n",
    "R_x_bytes = R.get_x().to_bytes(32, 'big')\n",
    "P_bytes = P.get_bytes()\n",
    "h_bytes =  # TODO: implement\n",
    "h = ECKey().set(h_bytes)\n",
    "s = k + h * d\n",
    "\n",
    "print(\"R: {}\".format(R))\n",
    "print(\"s: {}\\n\".format(s.get_bytes()))\n",
    "\n",
    "# Generate sig = R_x|s\n",
    "# Method: get the x bytes from R and concatenate with the secret bytes from s\n",
    "sig =  # TODO: implement\n",
    "\n",
    "print(\"Signature: {}\\n\".format(sig.hex()))\n",
    "\n",
    "# Generate a signature using the ECKey.sign_schnorr(msg) method\n",
    "# This generates the nonce deterministically, so should return the same signature\n",
    "sig2 = d.sign_schnorr(msg)\n",
    "\n",
    "# Verify and compare signature(s)\n",
    "assert P.verify_schnorr(sig, msg)\n",
    "assert P.verify_schnorr(sig2, msg)\n",
    "assert sig == sig2\n",
    "\n",
    "print(\"Success!\")"
   ]
  },
  {
   "cell_type": "markdown",
   "metadata": {},
   "source": [
    "**Congratulations!** In this chapter, you have:\n",
    "\n",
    "- Used jacobi_symbol() to determine if a random scalar is a valid bip-schnorr nonce\n",
    "- Created and verified a valid schnorr signature for a public key P and message m\n",
    "- Generated a deterministic nonce using a hash digest of the private key and message"
   ]
  }
 ],
 "metadata": {
  "kernelspec": {
   "display_name": "Python 3",
   "language": "python",
   "name": "python3"
  },
  "language_info": {
   "codemirror_mode": {
    "name": "ipython",
    "version": 3
   },
   "file_extension": ".py",
   "mimetype": "text/x-python",
   "name": "python",
   "nbconvert_exporter": "python",
   "pygments_lexer": "ipython3",
   "version": "3.6.5"
  }
 },
 "nbformat": 4,
 "nbformat_minor": 2
}
